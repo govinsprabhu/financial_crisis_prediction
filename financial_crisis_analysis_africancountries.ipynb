{
 "cells": [
  {
   "cell_type": "code",
   "execution_count": 1,
   "id": "817a54af",
   "metadata": {},
   "outputs": [],
   "source": [
    "import pandas as pd \n"
   ]
  },
  {
   "cell_type": "code",
   "execution_count": 2,
   "id": "03d9d427",
   "metadata": {},
   "outputs": [],
   "source": [
    "file_path= \"african_crises.csv\"\n",
    "df=pd.read_csv(file_path)\n",
    "df_bk=df.copy()\n",
    "\n",
    "\n"
   ]
  },
  {
   "cell_type": "code",
   "execution_count": 3,
   "id": "33e60e5f",
   "metadata": {},
   "outputs": [
    {
     "name": "stdout",
     "output_type": "stream",
     "text": [
      "<class 'pandas.core.frame.DataFrame'>\n",
      "RangeIndex: 1059 entries, 0 to 1058\n",
      "Data columns (total 14 columns):\n",
      " #   Column                           Non-Null Count  Dtype  \n",
      "---  ------                           --------------  -----  \n",
      " 0   case                             1059 non-null   int64  \n",
      " 1   cc3                              1059 non-null   object \n",
      " 2   country                          1059 non-null   object \n",
      " 3   year                             1059 non-null   int64  \n",
      " 4   systemic_crisis                  1059 non-null   int64  \n",
      " 5   exch_usd                         1059 non-null   float64\n",
      " 6   domestic_debt_in_default         1059 non-null   int64  \n",
      " 7   sovereign_external_debt_default  1059 non-null   int64  \n",
      " 8   gdp_weighted_default             1059 non-null   float64\n",
      " 9   inflation_annual_cpi             1059 non-null   float64\n",
      " 10  independence                     1059 non-null   int64  \n",
      " 11  currency_crises                  1059 non-null   int64  \n",
      " 12  inflation_crises                 1059 non-null   int64  \n",
      " 13  banking_crisis                   1059 non-null   object \n",
      "dtypes: float64(3), int64(8), object(3)\n",
      "memory usage: 116.0+ KB\n"
     ]
    },
    {
     "data": {
      "text/html": [
       "<div>\n",
       "<style scoped>\n",
       "    .dataframe tbody tr th:only-of-type {\n",
       "        vertical-align: middle;\n",
       "    }\n",
       "\n",
       "    .dataframe tbody tr th {\n",
       "        vertical-align: top;\n",
       "    }\n",
       "\n",
       "    .dataframe thead th {\n",
       "        text-align: right;\n",
       "    }\n",
       "</style>\n",
       "<table border=\"1\" class=\"dataframe\">\n",
       "  <thead>\n",
       "    <tr style=\"text-align: right;\">\n",
       "      <th></th>\n",
       "      <th>case</th>\n",
       "      <th>cc3</th>\n",
       "      <th>country</th>\n",
       "      <th>year</th>\n",
       "      <th>systemic_crisis</th>\n",
       "      <th>exch_usd</th>\n",
       "      <th>domestic_debt_in_default</th>\n",
       "      <th>sovereign_external_debt_default</th>\n",
       "      <th>gdp_weighted_default</th>\n",
       "      <th>inflation_annual_cpi</th>\n",
       "      <th>independence</th>\n",
       "      <th>currency_crises</th>\n",
       "      <th>inflation_crises</th>\n",
       "      <th>banking_crisis</th>\n",
       "    </tr>\n",
       "  </thead>\n",
       "  <tbody>\n",
       "    <tr>\n",
       "      <th>0</th>\n",
       "      <td>1</td>\n",
       "      <td>DZA</td>\n",
       "      <td>Algeria</td>\n",
       "      <td>1870</td>\n",
       "      <td>1</td>\n",
       "      <td>0.052264</td>\n",
       "      <td>0</td>\n",
       "      <td>0</td>\n",
       "      <td>0.0</td>\n",
       "      <td>3.441456</td>\n",
       "      <td>0</td>\n",
       "      <td>0</td>\n",
       "      <td>0</td>\n",
       "      <td>crisis</td>\n",
       "    </tr>\n",
       "    <tr>\n",
       "      <th>1</th>\n",
       "      <td>1</td>\n",
       "      <td>DZA</td>\n",
       "      <td>Algeria</td>\n",
       "      <td>1871</td>\n",
       "      <td>0</td>\n",
       "      <td>0.052798</td>\n",
       "      <td>0</td>\n",
       "      <td>0</td>\n",
       "      <td>0.0</td>\n",
       "      <td>14.149140</td>\n",
       "      <td>0</td>\n",
       "      <td>0</td>\n",
       "      <td>0</td>\n",
       "      <td>no_crisis</td>\n",
       "    </tr>\n",
       "    <tr>\n",
       "      <th>2</th>\n",
       "      <td>1</td>\n",
       "      <td>DZA</td>\n",
       "      <td>Algeria</td>\n",
       "      <td>1872</td>\n",
       "      <td>0</td>\n",
       "      <td>0.052274</td>\n",
       "      <td>0</td>\n",
       "      <td>0</td>\n",
       "      <td>0.0</td>\n",
       "      <td>-3.718593</td>\n",
       "      <td>0</td>\n",
       "      <td>0</td>\n",
       "      <td>0</td>\n",
       "      <td>no_crisis</td>\n",
       "    </tr>\n",
       "    <tr>\n",
       "      <th>3</th>\n",
       "      <td>1</td>\n",
       "      <td>DZA</td>\n",
       "      <td>Algeria</td>\n",
       "      <td>1873</td>\n",
       "      <td>0</td>\n",
       "      <td>0.051680</td>\n",
       "      <td>0</td>\n",
       "      <td>0</td>\n",
       "      <td>0.0</td>\n",
       "      <td>11.203897</td>\n",
       "      <td>0</td>\n",
       "      <td>0</td>\n",
       "      <td>0</td>\n",
       "      <td>no_crisis</td>\n",
       "    </tr>\n",
       "    <tr>\n",
       "      <th>4</th>\n",
       "      <td>1</td>\n",
       "      <td>DZA</td>\n",
       "      <td>Algeria</td>\n",
       "      <td>1874</td>\n",
       "      <td>0</td>\n",
       "      <td>0.051308</td>\n",
       "      <td>0</td>\n",
       "      <td>0</td>\n",
       "      <td>0.0</td>\n",
       "      <td>-3.848561</td>\n",
       "      <td>0</td>\n",
       "      <td>0</td>\n",
       "      <td>0</td>\n",
       "      <td>no_crisis</td>\n",
       "    </tr>\n",
       "  </tbody>\n",
       "</table>\n",
       "</div>"
      ],
      "text/plain": [
       "   case  cc3  country  year  systemic_crisis  exch_usd  \\\n",
       "0     1  DZA  Algeria  1870                1  0.052264   \n",
       "1     1  DZA  Algeria  1871                0  0.052798   \n",
       "2     1  DZA  Algeria  1872                0  0.052274   \n",
       "3     1  DZA  Algeria  1873                0  0.051680   \n",
       "4     1  DZA  Algeria  1874                0  0.051308   \n",
       "\n",
       "   domestic_debt_in_default  sovereign_external_debt_default  \\\n",
       "0                         0                                0   \n",
       "1                         0                                0   \n",
       "2                         0                                0   \n",
       "3                         0                                0   \n",
       "4                         0                                0   \n",
       "\n",
       "   gdp_weighted_default  inflation_annual_cpi  independence  currency_crises  \\\n",
       "0                   0.0              3.441456             0                0   \n",
       "1                   0.0             14.149140             0                0   \n",
       "2                   0.0             -3.718593             0                0   \n",
       "3                   0.0             11.203897             0                0   \n",
       "4                   0.0             -3.848561             0                0   \n",
       "\n",
       "   inflation_crises banking_crisis  \n",
       "0                 0         crisis  \n",
       "1                 0      no_crisis  \n",
       "2                 0      no_crisis  \n",
       "3                 0      no_crisis  \n",
       "4                 0      no_crisis  "
      ]
     },
     "execution_count": 3,
     "metadata": {},
     "output_type": "execute_result"
    }
   ],
   "source": [
    "df.info()\n",
    "df.head()\n",
    "\n",
    "\n"
   ]
  },
  {
   "cell_type": "code",
   "execution_count": 4,
   "id": "0c941f1d",
   "metadata": {},
   "outputs": [
    {
     "name": "stdout",
     "output_type": "stream",
     "text": [
      "case                               0\n",
      "cc3                                0\n",
      "country                            0\n",
      "year                               0\n",
      "systemic_crisis                    0\n",
      "exch_usd                           0\n",
      "domestic_debt_in_default           0\n",
      "sovereign_external_debt_default    0\n",
      "gdp_weighted_default               0\n",
      "inflation_annual_cpi               0\n",
      "independence                       0\n",
      "currency_crises                    0\n",
      "inflation_crises                   0\n",
      "banking_crisis                     0\n",
      "dtype: int64\n"
     ]
    }
   ],
   "source": [
    "missing=df.isnull().sum()\n",
    "print(missing)"
   ]
  },
  {
   "cell_type": "code",
   "execution_count": 5,
   "id": "3d4c2f27",
   "metadata": {},
   "outputs": [
    {
     "name": "stdout",
     "output_type": "stream",
     "text": [
      "              case         year  systemic_crisis     exch_usd  \\\n",
      "count  1059.000000  1059.000000      1059.000000  1059.000000   \n",
      "mean     35.613787  1967.767705         0.077432    43.140831   \n",
      "std      23.692402    33.530632         0.267401   111.475380   \n",
      "min       1.000000  1860.000000         0.000000     0.000000   \n",
      "25%      15.000000  1951.000000         0.000000     0.195350   \n",
      "50%      38.000000  1973.000000         0.000000     0.868400   \n",
      "75%      56.000000  1994.000000         0.000000     8.462750   \n",
      "max      70.000000  2014.000000         1.000000   744.306139   \n",
      "\n",
      "       domestic_debt_in_default  sovereign_external_debt_default  \\\n",
      "count               1059.000000                      1059.000000   \n",
      "mean                   0.039660                         0.152975   \n",
      "std                    0.195251                         0.360133   \n",
      "min                    0.000000                         0.000000   \n",
      "25%                    0.000000                         0.000000   \n",
      "50%                    0.000000                         0.000000   \n",
      "75%                    0.000000                         0.000000   \n",
      "max                    1.000000                         1.000000   \n",
      "\n",
      "       gdp_weighted_default  inflation_annual_cpi  independence  \\\n",
      "count           1059.000000          1.059000e+03   1059.000000   \n",
      "mean               0.006402          2.084889e+04      0.776204   \n",
      "std                0.043572          6.757274e+05      0.416984   \n",
      "min                0.000000         -2.850214e+01      0.000000   \n",
      "25%                0.000000          2.086162e+00      1.000000   \n",
      "50%                0.000000          5.762330e+00      1.000000   \n",
      "75%                0.000000          1.164405e+01      1.000000   \n",
      "max                0.400000          2.198970e+07      1.000000   \n",
      "\n",
      "       currency_crises  inflation_crises  \n",
      "count      1059.000000       1059.000000  \n",
      "mean          0.132200          0.129367  \n",
      "std           0.349847          0.335765  \n",
      "min           0.000000          0.000000  \n",
      "25%           0.000000          0.000000  \n",
      "50%           0.000000          0.000000  \n",
      "75%           0.000000          0.000000  \n",
      "max           2.000000          1.000000  \n"
     ]
    }
   ],
   "source": [
    "print(df.describe())"
   ]
  },
  {
   "cell_type": "code",
   "execution_count": 6,
   "id": "f62354b5",
   "metadata": {},
   "outputs": [
    {
     "data": {
      "image/png": "[encoded data removed]",
      "text/plain": [
       "<Figure size 1000x600 with 2 Axes>"
      ]
     },
     "metadata": {},
     "output_type": "display_data"
    }
   ],
   "source": [
    "# Import libraries\n",
    "import numpy as np\n",
    "import pandas as pd\n",
    "import matplotlib.pyplot as plt\n",
    "import seaborn as sns\n",
    "import plotly.express as px\n",
    "import warnings\n",
    "warnings.filterwarnings('ignore')\n",
    "pd.set_option('display.max_columns', None)\n",
    "numeric_df = df.select_dtypes(include=[np.number])\n",
    "plt.figure(figsize=(10, 6))\n",
    "sns.heatmap(numeric_df.corr(), annot=True, cmap='coolwarm')\n",
    "plt.title('Correlation Heatmap')\n",
    "plt.show()"
   ]
  },
  {
   "cell_type": "code",
   "execution_count": 7,
   "id": "07f46b57",
   "metadata": {},
   "outputs": [
    {
     "data": {
      "application/vnd.plotly.v1+json": {
       "config": {
        "plotlyServerURL": "https://plot.ly"
       },
       "data": [
        {
         "bingroup": "x",
         "hovertemplate": "banking_crisis=%{x}<br>count=%{y}<extra></extra>",
         "legendgroup": "crisis",
         "marker": {
          "color": "red",
          "pattern": {
           "shape": ""
          }
         },
         "name": "crisis",
         "orientation": "v",
         "showlegend": true,
         "type": "histogram",
         "x": [
          "crisis",
          "crisis",
          "crisis",
          "crisis",
          "crisis",
          "crisis",
          "crisis",
          "crisis",
          "crisis",
          "crisis",
          "crisis",
          "crisis",
          "crisis",
          "crisis",
          "crisis",
          "crisis",
          "crisis",
          "crisis",
          "crisis",
          "crisis",
          "crisis",
          "crisis",
          "crisis",
          "crisis",
          "crisis",
          "crisis",
          "crisis",
          "crisis",
          "crisis",
          "crisis",
          "crisis",
          "crisis",
          "crisis",
          "crisis",
          "crisis",
          "crisis",
          "crisis",
          "crisis",
          "crisis",
          "crisis",
          "crisis",
          "crisis",
          "crisis",
          "crisis",
          "crisis",
          "crisis",
          "crisis",
          "crisis",
          "crisis",
          "crisis",
          "crisis",
          "crisis",
          "crisis",
          "crisis",
          "crisis",
          "crisis",
          "crisis",
          "crisis",
          "crisis",
          "crisis",
          "crisis",
          "crisis",
          "crisis",
          "crisis",
          "crisis",
          "crisis",
          "crisis",
          "crisis",
          "crisis",
          "crisis",
          "crisis",
          "crisis",
          "crisis",
          "crisis",
          "crisis",
          "crisis",
          "crisis",
          "crisis",
          "crisis",
          "crisis",
          "crisis",
          "crisis",
          "crisis",
          "crisis",
          "crisis",
          "crisis",
          "crisis",
          "crisis",
          "crisis",
          "crisis",
          "crisis",
          "crisis",
          "crisis",
          "crisis"
         ],
         "xaxis": "x",
         "yaxis": "y"
        },
        {
         "bingroup": "x",
         "hovertemplate": "banking_crisis=%{x}<br>count=%{y}<extra></extra>",
         "legendgroup": "no_crisis",
         "marker": {
          "color": "blue",
          "pattern": {
           "shape": ""
          }
         },
         "name": "no_crisis",
         "orientation": "v",
         "showlegend": true,
         "type": "histogram",
         "x": [
          "no_crisis",
          "no_crisis",
          "no_crisis",
          "no_crisis",
          "no_crisis",
          "no_crisis",
          "no_crisis",
          "no_crisis",
          "no_crisis",
          "no_crisis",
          "no_crisis",
          "no_crisis",
          "no_crisis",
          "no_crisis",
          "no_crisis",
          "no_crisis",
          "no_crisis",
          "no_crisis",
          "no_crisis",
          "no_crisis",
          "no_crisis",
          "no_crisis",
          "no_crisis",
          "no_crisis",
          "no_crisis",
          "no_crisis",
          "no_crisis",
          "no_crisis",
          "no_crisis",
          "no_crisis",
          "no_crisis",
          "no_crisis",
          "no_crisis",
          "no_crisis",
          "no_crisis",
          "no_crisis",
          "no_crisis",
          "no_crisis",
          "no_crisis",
          "no_crisis",
          "no_crisis",
          "no_crisis",
          "no_crisis",
          "no_crisis",
          "no_crisis",
          "no_crisis",
          "no_crisis",
          "no_crisis",
          "no_crisis",
          "no_crisis",
          "no_crisis",
          "no_crisis",
          "no_crisis",
          "no_crisis",
          "no_crisis",
          "no_crisis",
          "no_crisis",
          "no_crisis",
          "no_crisis",
          "no_crisis",
          "no_crisis",
          "no_crisis",
          "no_crisis",
          "no_crisis",
          "no_crisis",
          "no_crisis",
          "no_crisis",
          "no_crisis",
          "no_crisis",
          "no_crisis",
          "no_crisis",
          "no_crisis",
          "no_crisis",
          "no_crisis",
          "no_crisis",
          "no_crisis",
          "no_crisis",
          "no_crisis",
          "no_crisis",
          "no_crisis",
          "no_crisis",
          "no_crisis",
          "no_crisis",
          "no_crisis",
          "no_crisis",
          "no_crisis",
          "no_crisis",
          "no_crisis",
          "no_crisis",
          "no_crisis",
          "no_crisis",
          "no_crisis",
          "no_crisis",
          "no_crisis",
          "no_crisis",
          "no_crisis",
          "no_crisis",
          "no_crisis",
          "no_crisis",
          "no_crisis",
          "no_crisis",
          "no_crisis",
          "no_crisis",
          "no_crisis",
          "no_crisis",
          "no_crisis",
          "no_crisis",
          "no_crisis",
          "no_crisis",
          "no_crisis",
          "no_crisis",
          "no_crisis",
          "no_crisis",
          "no_crisis",
          "no_crisis",
          "no_crisis",
          "no_crisis",
          "no_crisis",
          "no_crisis",
          "no_crisis",
          "no_crisis",
          "no_crisis",
          "no_crisis",
          "no_crisis",
          "no_crisis",
          "no_crisis",
          "no_crisis",
          "no_crisis",
          "no_crisis",
          "no_crisis",
          "no_crisis",
          "no_crisis",
          "no_crisis",
          "no_crisis",
          "no_crisis",
          "no_crisis",
          "no_crisis",
          "no_crisis",
          "no_crisis",
          "no_crisis",
          "no_crisis",
          "no_crisis",
          "no_crisis",
          "no_crisis",
          "no_crisis",
          "no_crisis",
          "no_crisis",
          "no_crisis",
          "no_crisis",
          "no_crisis",
          "no_crisis",
          "no_crisis",
          "no_crisis",
          "no_crisis",
          "no_crisis",
          "no_crisis",
          "no_crisis",
          "no_crisis",
          "no_crisis",
          "no_crisis",
          "no_crisis",
          "no_crisis",
          "no_crisis",
          "no_crisis",
          "no_crisis",
          "no_crisis",
          "no_crisis",
          "no_crisis",
          "no_crisis",
          "no_crisis",
          "no_crisis",
          "no_crisis",
          "no_crisis",
          "no_crisis",
          "no_crisis",
          "no_crisis",
          "no_crisis",
          "no_crisis",
          "no_crisis",
          "no_crisis",
          "no_crisis",
          "no_crisis",
          "no_crisis",
          "no_crisis",
          "no_crisis",
          "no_crisis",
          "no_crisis",
          "no_crisis",
          "no_crisis",
          "no_crisis",
          "no_crisis",
          "no_crisis",
          "no_crisis",
          "no_crisis",
          "no_crisis",
          "no_crisis",
          "no_crisis",
          "no_crisis",
          "no_crisis",
          "no_crisis",
          "no_crisis",
          "no_crisis",
          "no_crisis",
          "no_crisis",
          "no_crisis",
          "no_crisis",
          "no_crisis",
          "no_crisis",
          "no_crisis",
          "no_crisis",
          "no_crisis",
          "no_crisis",
          "no_crisis",
          "no_crisis",
          "no_crisis",
          "no_crisis",
          "no_crisis",
          "no_crisis",
          "no_crisis",
          "no_crisis",
          "no_crisis",
          "no_crisis",
          "no_crisis",
          "no_crisis",
          "no_crisis",
          "no_crisis",
          "no_crisis",
          "no_crisis",
          "no_crisis",
          "no_crisis",
          "no_crisis",
          "no_crisis",
          "no_crisis",
          "no_crisis",
          "no_crisis",
          "no_crisis",
          "no_crisis",
          "no_crisis",
          "no_crisis",
          "no_crisis",
          "no_crisis",
          "no_crisis",
          "no_crisis",
          "no_crisis",
          "no_crisis",
          "no_crisis",
          "no_crisis",
          "no_crisis",
          "no_crisis",
          "no_crisis",
          "no_crisis",
          "no_crisis",
          "no_crisis",
          "no_crisis",
          "no_crisis",
          "no_crisis",
          "no_crisis",
          "no_crisis",
          "no_crisis",
          "no_crisis",
          "no_crisis",
          "no_crisis",
          "no_crisis",
          "no_crisis",
          "no_crisis",
          "no_crisis",
          "no_crisis",
          "no_crisis",
          "no_crisis",
          "no_crisis",
          "no_crisis",
          "no_crisis",
          "no_crisis",
          "no_crisis",
          "no_crisis",
          "no_crisis",
          "no_crisis",
          "no_crisis",
          "no_crisis",
          "no_crisis",
          "no_crisis",
          "no_crisis",
          "no_crisis",
          "no_crisis",
          "no_crisis",
          "no_crisis",
          "no_crisis",
          "no_crisis",
          "no_crisis",
          "no_crisis",
          "no_crisis",
          "no_crisis",
          "no_crisis",
          "no_crisis",
          "no_crisis",
          "no_crisis",
          "no_crisis",
          "no_crisis",
          "no_crisis",
          "no_crisis",
          "no_crisis",
          "no_crisis",
          "no_crisis",
          "no_crisis",
          "no_crisis",
          "no_crisis",
          "no_crisis",
          "no_crisis",
          "no_crisis",
          "no_crisis",
          "no_crisis",
          "no_crisis",
          "no_crisis",
          "no_crisis",
          "no_crisis",
          "no_crisis",
          "no_crisis",
          "no_crisis",
          "no_crisis",
          "no_crisis",
          "no_crisis",
          "no_crisis",
          "no_crisis",
          "no_crisis",
          "no_crisis",
          "no_crisis",
          "no_crisis",
          "no_crisis",
          "no_crisis",
          "no_crisis",
          "no_crisis",
          "no_crisis",
          "no_crisis",
          "no_crisis",
          "no_crisis",
          "no_crisis",
          "no_crisis",
          "no_crisis",
          "no_crisis",
          "no_crisis",
          "no_crisis",
          "no_crisis",
          "no_crisis",
          "no_crisis",
          "no_crisis",
          "no_crisis",
          "no_crisis",
          "no_crisis",
          "no_crisis",
          "no_crisis",
          "no_crisis",
          "no_crisis",
          "no_crisis",
          "no_crisis",
          "no_crisis",
          "no_crisis",
          "no_crisis",
          "no_crisis",
          "no_crisis",
          "no_crisis",
          "no_crisis",
          "no_crisis",
          "no_crisis",
          "no_crisis",
          "no_crisis",
          "no_crisis",
          "no_crisis",
          "no_crisis",
          "no_crisis",
          "no_crisis",
          "no_crisis",
          "no_crisis",
          "no_crisis",
          "no_crisis",
          "no_crisis",
          "no_crisis",
          "no_crisis",
          "no_crisis",
          "no_crisis",
          "no_crisis",
          "no_crisis",
          "no_crisis",
          "no_crisis",
          "no_crisis",
          "no_crisis",
          "no_crisis",
          "no_crisis",
          "no_crisis",
          "no_crisis",
          "no_crisis",
          "no_crisis",
          "no_crisis",
          "no_crisis",
          "no_crisis",
          "no_crisis",
          "no_crisis",
          "no_crisis",
          "no_crisis",
          "no_crisis",
          "no_crisis",
          "no_crisis",
          "no_crisis",
          "no_crisis",
          "no_crisis",
          "no_crisis",
          "no_crisis",
          "no_crisis",
          "no_crisis",
          "no_crisis",
          "no_crisis",
          "no_crisis",
          "no_crisis",
          "no_crisis",
          "no_crisis",
          "no_crisis",
          "no_crisis",
          "no_crisis",
          "no_crisis",
          "no_crisis",
          "no_crisis",
          "no_crisis",
          "no_crisis",
          "no_crisis",
          "no_crisis",
          "no_crisis",
          "no_crisis",
          "no_crisis",
          "no_crisis",
          "no_crisis",
          "no_crisis",
          "no_crisis",
          "no_crisis",
          "no_crisis",
          "no_crisis",
          "no_crisis",
          "no_crisis",
          "no_crisis",
          "no_crisis",
          "no_crisis",
          "no_crisis",
          "no_crisis",
          "no_crisis",
          "no_crisis",
          "no_crisis",
          "no_crisis",
          "no_crisis",
          "no_crisis",
          "no_crisis",
          "no_crisis",
          "no_crisis",
          "no_crisis",
          "no_crisis",
          "no_crisis",
          "no_crisis",
          "no_crisis",
          "no_crisis",
          "no_crisis",
          "no_crisis",
          "no_crisis",
          "no_crisis",
          "no_crisis",
          "no_crisis",
          "no_crisis",
          "no_crisis",
          "no_crisis",
          "no_crisis",
          "no_crisis",
          "no_crisis",
          "no_crisis",
          "no_crisis",
          "no_crisis",
          "no_crisis",
          "no_crisis",
          "no_crisis",
          "no_crisis",
          "no_crisis",
          "no_crisis",
          "no_crisis",
          "no_crisis",
          "no_crisis",
          "no_crisis",
          "no_crisis",
          "no_crisis",
          "no_crisis",
          "no_crisis",
          "no_crisis",
          "no_crisis",
          "no_crisis",
          "no_crisis",
          "no_crisis",
          "no_crisis",
          "no_crisis",
          "no_crisis",
          "no_crisis",
          "no_crisis",
          "no_crisis",
          "no_crisis",
          "no_crisis",
          "no_crisis",
          "no_crisis",
          "no_crisis",
          "no_crisis",
          "no_crisis",
          "no_crisis",
          "no_crisis",
          "no_crisis",
          "no_crisis",
          "no_crisis",
          "no_crisis",
          "no_crisis",
          "no_crisis",
          "no_crisis",
          "no_crisis",
          "no_crisis",
          "no_crisis",
          "no_crisis",
          "no_crisis",
          "no_crisis",
          "no_crisis",
          "no_crisis",
          "no_crisis",
          "no_crisis",
          "no_crisis",
          "no_crisis",
          "no_crisis",
          "no_crisis",
          "no_crisis",
          "no_crisis",
          "no_crisis",
          "no_crisis",
          "no_crisis",
          "no_crisis",
          "no_crisis",
          "no_crisis",
          "no_crisis",
          "no_crisis",
          "no_crisis",
          "no_crisis",
          "no_crisis",
          "no_crisis",
          "no_crisis",
          "no_crisis",
          "no_crisis",
          "no_crisis",
          "no_crisis",
          "no_crisis",
          "no_crisis",
          "no_crisis",
          "no_crisis",
          "no_crisis",
          "no_crisis",
          "no_crisis",
          "no_crisis",
          "no_crisis",
          "no_crisis",
          "no_crisis",
          "no_crisis",
          "no_crisis",
          "no_crisis",
          "no_crisis",
          "no_crisis",
          "no_crisis",
          "no_crisis",
          "no_crisis",
          "no_crisis",
          "no_crisis",
          "no_crisis",
          "no_crisis",
          "no_crisis",
          "no_crisis",
          "no_crisis",
          "no_crisis",
          "no_crisis",
          "no_crisis",
          "no_crisis",
          "no_crisis",
          "no_crisis",
          "no_crisis",
          "no_crisis",
          "no_crisis",
          "no_crisis",
          "no_crisis",
          "no_crisis",
          "no_crisis",
          "no_crisis",
          "no_crisis",
          "no_crisis",
          "no_crisis",
          "no_crisis",
          "no_crisis",
          "no_crisis",
          "no_crisis",
          "no_crisis",
          "no_crisis",
          "no_crisis",
          "no_crisis",
          "no_crisis",
          "no_crisis",
          "no_crisis",
          "no_crisis",
          "no_crisis",
          "no_crisis",
          "no_crisis",
          "no_crisis",
          "no_crisis",
          "no_crisis",
          "no_crisis",
          "no_crisis",
          "no_crisis",
          "no_crisis",
          "no_crisis",
          "no_crisis",
          "no_crisis",
          "no_crisis",
          "no_crisis",
          "no_crisis",
          "no_crisis",
          "no_crisis",
          "no_crisis",
          "no_crisis",
          "no_crisis",
          "no_crisis",
          "no_crisis",
          "no_crisis",
          "no_crisis",
          "no_crisis",
          "no_crisis",
          "no_crisis",
          "no_crisis",
          "no_crisis",
          "no_crisis",
          "no_crisis",
          "no_crisis",
          "no_crisis",
          "no_crisis",
          "no_crisis",
          "no_crisis",
          "no_crisis",
          "no_crisis",
          "no_crisis",
          "no_crisis",
          "no_crisis",
          "no_crisis",
          "no_crisis",
          "no_crisis",
          "no_crisis",
          "no_crisis",
          "no_crisis",
          "no_crisis",
          "no_crisis",
          "no_crisis",
          "no_crisis",
          "no_crisis",
          "no_crisis",
          "no_crisis",
          "no_crisis",
          "no_crisis",
          "no_crisis",
          "no_crisis",
          "no_crisis",
          "no_crisis",
          "no_crisis",
          "no_crisis",
          "no_crisis",
          "no_crisis",
          "no_crisis",
          "no_crisis",
          "no_crisis",
          "no_crisis",
          "no_crisis",
          "no_crisis",
          "no_crisis",
          "no_crisis",
          "no_crisis",
          "no_crisis",
          "no_crisis",
          "no_crisis",
          "no_crisis",
          "no_crisis",
          "no_crisis",
          "no_crisis",
          "no_crisis",
          "no_crisis",
          "no_crisis",
          "no_crisis",
          "no_crisis",
          "no_crisis",
          "no_crisis",
          "no_crisis",
          "no_crisis",
          "no_crisis",
          "no_crisis",
          "no_crisis",
          "no_crisis",
          "no_crisis",
          "no_crisis",
          "no_crisis",
          "no_crisis",
          "no_crisis",
          "no_crisis",
          "no_crisis",
          "no_crisis",
          "no_crisis",
          "no_crisis",
          "no_crisis",
          "no_crisis",
          "no_crisis",
          "no_crisis",
          "no_crisis",
          "no_crisis",
          "no_crisis",
          "no_crisis",
          "no_crisis",
          "no_crisis",
          "no_crisis",
          "no_crisis",
          "no_crisis",
          "no_crisis",
          "no_crisis",
          "no_crisis",
          "no_crisis",
          "no_crisis",
          "no_crisis",
          "no_crisis",
          "no_crisis",
          "no_crisis",
          "no_crisis",
          "no_crisis",
          "no_crisis",
          "no_crisis",
          "no_crisis",
          "no_crisis",
          "no_crisis",
          "no_crisis",
          "no_crisis",
          "no_crisis",
          "no_crisis",
          "no_crisis",
          "no_crisis",
          "no_crisis",
          "no_crisis",
          "no_crisis",
          "no_crisis",
          "no_crisis",
          "no_crisis",
          "no_crisis",
          "no_crisis",
          "no_crisis",
          "no_crisis",
          "no_crisis",
          "no_crisis",
          "no_crisis",
          "no_crisis",
          "no_crisis",
          "no_crisis",
          "no_crisis",
          "no_crisis",
          "no_crisis",
          "no_crisis",
          "no_crisis",
          "no_crisis",
          "no_crisis",
          "no_crisis",
          "no_crisis",
          "no_crisis",
          "no_crisis",
          "no_crisis",
          "no_crisis",
          "no_crisis",
          "no_crisis",
          "no_crisis",
          "no_crisis",
          "no_crisis",
          "no_crisis",
          "no_crisis",
          "no_crisis",
          "no_crisis",
          "no_crisis",
          "no_crisis",
          "no_crisis",
          "no_crisis",
          "no_crisis",
          "no_crisis",
          "no_crisis",
          "no_crisis",
          "no_crisis",
          "no_crisis",
          "no_crisis",
          "no_crisis",
          "no_crisis",
          "no_crisis",
          "no_crisis",
          "no_crisis",
          "no_crisis",
          "no_crisis",
          "no_crisis",
          "no_crisis",
          "no_crisis",
          "no_crisis",
          "no_crisis",
          "no_crisis",
          "no_crisis",
          "no_crisis",
          "no_crisis",
          "no_crisis",
          "no_crisis",
          "no_crisis",
          "no_crisis",
          "no_crisis",
          "no_crisis",
          "no_crisis",
          "no_crisis",
          "no_crisis",
          "no_crisis",
          "no_crisis",
          "no_crisis",
          "no_crisis",
          "no_crisis",
          "no_crisis",
          "no_crisis",
          "no_crisis",
          "no_crisis",
          "no_crisis",
          "no_crisis",
          "no_crisis",
          "no_crisis",
          "no_crisis",
          "no_crisis",
          "no_crisis",
          "no_crisis",
          "no_crisis",
          "no_crisis",
          "no_crisis",
          "no_crisis",
          "no_crisis",
          "no_crisis",
          "no_crisis",
          "no_crisis",
          "no_crisis",
          "no_crisis",
          "no_crisis",
          "no_crisis",
          "no_crisis",
          "no_crisis",
          "no_crisis",
          "no_crisis",
          "no_crisis",
          "no_crisis",
          "no_crisis",
          "no_crisis",
          "no_crisis",
          "no_crisis",
          "no_crisis",
          "no_crisis",
          "no_crisis",
          "no_crisis",
          "no_crisis",
          "no_crisis",
          "no_crisis",
          "no_crisis",
          "no_crisis",
          "no_crisis",
          "no_crisis",
          "no_crisis",
          "no_crisis",
          "no_crisis",
          "no_crisis",
          "no_crisis",
          "no_crisis",
          "no_crisis",
          "no_crisis",
          "no_crisis",
          "no_crisis",
          "no_crisis",
          "no_crisis",
          "no_crisis",
          "no_crisis",
          "no_crisis",
          "no_crisis",
          "no_crisis",
          "no_crisis",
          "no_crisis",
          "no_crisis",
          "no_crisis",
          "no_crisis",
          "no_crisis",
          "no_crisis",
          "no_crisis",
          "no_crisis",
          "no_crisis",
          "no_crisis",
          "no_crisis",
          "no_crisis",
          "no_crisis",
          "no_crisis",
          "no_crisis",
          "no_crisis",
          "no_crisis",
          "no_crisis",
          "no_crisis",
          "no_crisis",
          "no_crisis",
          "no_crisis",
          "no_crisis",
          "no_crisis",
          "no_crisis",
          "no_crisis",
          "no_crisis",
          "no_crisis",
          "no_crisis",
          "no_crisis",
          "no_crisis",
          "no_crisis",
          "no_crisis",
          "no_crisis",
          "no_crisis",
          "no_crisis",
          "no_crisis",
          "no_crisis",
          "no_crisis",
          "no_crisis",
          "no_crisis",
          "no_crisis",
          "no_crisis",
          "no_crisis",
          "no_crisis",
          "no_crisis",
          "no_crisis",
          "no_crisis",
          "no_crisis",
          "no_crisis",
          "no_crisis",
          "no_crisis",
          "no_crisis",
          "no_crisis",
          "no_crisis",
          "no_crisis",
          "no_crisis",
          "no_crisis",
          "no_crisis",
          "no_crisis",
          "no_crisis",
          "no_crisis",
          "no_crisis",
          "no_crisis",
          "no_crisis",
          "no_crisis",
          "no_crisis",
          "no_crisis",
          "no_crisis",
          "no_crisis",
          "no_crisis",
          "no_crisis",
          "no_crisis",
          "no_crisis",
          "no_crisis",
          "no_crisis",
          "no_crisis",
          "no_crisis",
          "no_crisis",
          "no_crisis",
          "no_crisis",
          "no_crisis",
          "no_crisis",
          "no_crisis"
         ],
         "xaxis": "x",
         "yaxis": "y"
        }
       ],
       "layout": {
        "barmode": "relative",
        "legend": {
         "title": {
          "text": "banking_crisis"
         },
         "tracegroupgap": 0
        },
        "margin": {
         "t": 60
        },
        "template": {
         "data": {
          "bar": [
           {
            "error_x": {
             "color": "#2a3f5f"
            },
            "error_y": {
             "color": "#2a3f5f"
            },
            "marker": {
             "line": {
              "color": "white",
              "width": 0.5
             },
             "pattern": {
              "fillmode": "overlay",
              "size": 10,
              "solidity": 0.2
             }
            },
            "type": "bar"
           }
          ],
          "barpolar": [
           {
            "marker": {
             "line": {
              "color": "white",
              "width": 0.5
             },
             "pattern": {
              "fillmode": "overlay",
              "size": 10,
              "solidity": 0.2
             }
            },
            "type": "barpolar"
           }
          ],
          "carpet": [
           {
            "aaxis": {
             "endlinecolor": "#2a3f5f",
             "gridcolor": "#C8D4E3",
             "linecolor": "#C8D4E3",
             "minorgridcolor": "#C8D4E3",
             "startlinecolor": "#2a3f5f"
            },
            "baxis": {
             "endlinecolor": "#2a3f5f",
             "gridcolor": "#C8D4E3",
             "linecolor": "#C8D4E3",
             "minorgridcolor": "#C8D4E3",
             "startlinecolor": "#2a3f5f"
            },
            "type": "carpet"
           }
          ],
          "choropleth": [
           {
            "colorbar": {
             "outlinewidth": 0,
             "ticks": ""
            },
            "type": "choropleth"
           }
          ],
          "contour": [
           {
            "colorbar": {
             "outlinewidth": 0,
             "ticks": ""
            },
            "colorscale": [
             [
              0,
              "#0d0887"
             ],
             [
              0.1111111111111111,
              "#46039f"
             ],
             [
              0.2222222222222222,
              "#7201a8"
             ],
             [
              0.3333333333333333,
              "#9c179e"
             ],
             [
              0.4444444444444444,
              "#bd3786"
             ],
             [
              0.5555555555555556,
              "#d8576b"
             ],
             [
              0.6666666666666666,
              "#ed7953"
             ],
             [
              0.7777777777777778,
              "#fb9f3a"
             ],
             [
              0.8888888888888888,
              "#fdca26"
             ],
             [
              1,
              "#f0f921"
             ]
            ],
            "type": "contour"
           }
          ],
          "contourcarpet": [
           {
            "colorbar": {
             "outlinewidth": 0,
             "ticks": ""
            },
            "type": "contourcarpet"
           }
          ],
          "heatmap": [
           {
            "colorbar": {
             "outlinewidth": 0,
             "ticks": ""
            },
            "colorscale": [
             [
              0,
              "#0d0887"
             ],
             [
              0.1111111111111111,
              "#46039f"
             ],
             [
              0.2222222222222222,
              "#7201a8"
             ],
             [
              0.3333333333333333,
              "#9c179e"
             ],
             [
              0.4444444444444444,
              "#bd3786"
             ],
             [
              0.5555555555555556,
              "#d8576b"
             ],
             [
              0.6666666666666666,
              "#ed7953"
             ],
             [
              0.7777777777777778,
              "#fb9f3a"
             ],
             [
              0.8888888888888888,
              "#fdca26"
             ],
             [
              1,
              "#f0f921"
             ]
            ],
            "type": "heatmap"
           }
          ],
          "histogram": [
           {
            "marker": {
             "pattern": {
              "fillmode": "overlay",
              "size": 10,
              "solidity": 0.2
             }
            },
            "type": "histogram"
           }
          ],
          "histogram2d": [
           {
            "colorbar": {
             "outlinewidth": 0,
             "ticks": ""
            },
            "colorscale": [
             [
              0,
              "#0d0887"
             ],
             [
              0.1111111111111111,
              "#46039f"
             ],
             [
              0.2222222222222222,
              "#7201a8"
             ],
             [
              0.3333333333333333,
              "#9c179e"
             ],
             [
              0.4444444444444444,
              "#bd3786"
             ],
             [
              0.5555555555555556,
              "#d8576b"
             ],
             [
              0.6666666666666666,
              "#ed7953"
             ],
             [
              0.7777777777777778,
              "#fb9f3a"
             ],
             [
              0.8888888888888888,
              "#fdca26"
             ],
             [
              1,
              "#f0f921"
             ]
            ],
            "type": "histogram2d"
           }
          ],
          "histogram2dcontour": [
           {
            "colorbar": {
             "outlinewidth": 0,
             "ticks": ""
            },
            "colorscale": [
             [
              0,
              "#0d0887"
             ],
             [
              0.1111111111111111,
              "#46039f"
             ],
             [
              0.2222222222222222,
              "#7201a8"
             ],
             [
              0.3333333333333333,
              "#9c179e"
             ],
             [
              0.4444444444444444,
              "#bd3786"
             ],
             [
              0.5555555555555556,
              "#d8576b"
             ],
             [
              0.6666666666666666,
              "#ed7953"
             ],
             [
              0.7777777777777778,
              "#fb9f3a"
             ],
             [
              0.8888888888888888,
              "#fdca26"
             ],
             [
              1,
              "#f0f921"
             ]
            ],
            "type": "histogram2dcontour"
           }
          ],
          "mesh3d": [
           {
            "colorbar": {
             "outlinewidth": 0,
             "ticks": ""
            },
            "type": "mesh3d"
           }
          ],
          "parcoords": [
           {
            "line": {
             "colorbar": {
              "outlinewidth": 0,
              "ticks": ""
             }
            },
            "type": "parcoords"
           }
          ],
          "pie": [
           {
            "automargin": true,
            "type": "pie"
           }
          ],
          "scatter": [
           {
            "fillpattern": {
             "fillmode": "overlay",
             "size": 10,
             "solidity": 0.2
            },
            "type": "scatter"
           }
          ],
          "scatter3d": [
           {
            "line": {
             "colorbar": {
              "outlinewidth": 0,
              "ticks": ""
             }
            },
            "marker": {
             "colorbar": {
              "outlinewidth": 0,
              "ticks": ""
             }
            },
            "type": "scatter3d"
           }
          ],
          "scattercarpet": [
           {
            "marker": {
             "colorbar": {
              "outlinewidth": 0,
              "ticks": ""
             }
            },
            "type": "scattercarpet"
           }
          ],
          "scattergeo": [
           {
            "marker": {
             "colorbar": {
              "outlinewidth": 0,
              "ticks": ""
             }
            },
            "type": "scattergeo"
           }
          ],
          "scattergl": [
           {
            "marker": {
             "colorbar": {
              "outlinewidth": 0,
              "ticks": ""
             }
            },
            "type": "scattergl"
           }
          ],
          "scattermap": [
           {
            "marker": {
             "colorbar": {
              "outlinewidth": 0,
              "ticks": ""
             }
            },
            "type": "scattermap"
           }
          ],
          "scattermapbox": [
           {
            "marker": {
             "colorbar": {
              "outlinewidth": 0,
              "ticks": ""
             }
            },
            "type": "scattermapbox"
           }
          ],
          "scatterpolar": [
           {
            "marker": {
             "colorbar": {
              "outlinewidth": 0,
              "ticks": ""
             }
            },
            "type": "scatterpolar"
           }
          ],
          "scatterpolargl": [
           {
            "marker": {
             "colorbar": {
              "outlinewidth": 0,
              "ticks": ""
             }
            },
            "type": "scatterpolargl"
           }
          ],
          "scatterternary": [
           {
            "marker": {
             "colorbar": {
              "outlinewidth": 0,
              "ticks": ""
             }
            },
            "type": "scatterternary"
           }
          ],
          "surface": [
           {
            "colorbar": {
             "outlinewidth": 0,
             "ticks": ""
            },
            "colorscale": [
             [
              0,
              "#0d0887"
             ],
             [
              0.1111111111111111,
              "#46039f"
             ],
             [
              0.2222222222222222,
              "#7201a8"
             ],
             [
              0.3333333333333333,
              "#9c179e"
             ],
             [
              0.4444444444444444,
              "#bd3786"
             ],
             [
              0.5555555555555556,
              "#d8576b"
             ],
             [
              0.6666666666666666,
              "#ed7953"
             ],
             [
              0.7777777777777778,
              "#fb9f3a"
             ],
             [
              0.8888888888888888,
              "#fdca26"
             ],
             [
              1,
              "#f0f921"
             ]
            ],
            "type": "surface"
           }
          ],
          "table": [
           {
            "cells": {
             "fill": {
              "color": "#EBF0F8"
             },
             "line": {
              "color": "white"
             }
            },
            "header": {
             "fill": {
              "color": "#C8D4E3"
             },
             "line": {
              "color": "white"
             }
            },
            "type": "table"
           }
          ]
         },
         "layout": {
          "annotationdefaults": {
           "arrowcolor": "#2a3f5f",
           "arrowhead": 0,
           "arrowwidth": 1
          },
          "autotypenumbers": "strict",
          "coloraxis": {
           "colorbar": {
            "outlinewidth": 0,
            "ticks": ""
           }
          },
          "colorscale": {
           "diverging": [
            [
             0,
             "#8e0152"
            ],
            [
             0.1,
             "#c51b7d"
            ],
            [
             0.2,
             "#de77ae"
            ],
            [
             0.3,
             "#f1b6da"
            ],
            [
             0.4,
             "#fde0ef"
            ],
            [
             0.5,
             "#f7f7f7"
            ],
            [
             0.6,
             "#e6f5d0"
            ],
            [
             0.7,
             "#b8e186"
            ],
            [
             0.8,
             "#7fbc41"
            ],
            [
             0.9,
             "#4d9221"
            ],
            [
             1,
             "#276419"
            ]
           ],
           "sequential": [
            [
             0,
             "#0d0887"
            ],
            [
             0.1111111111111111,
             "#46039f"
            ],
            [
             0.2222222222222222,
             "#7201a8"
            ],
            [
             0.3333333333333333,
             "#9c179e"
            ],
            [
             0.4444444444444444,
             "#bd3786"
            ],
            [
             0.5555555555555556,
             "#d8576b"
            ],
            [
             0.6666666666666666,
             "#ed7953"
            ],
            [
             0.7777777777777778,
             "#fb9f3a"
            ],
            [
             0.8888888888888888,
             "#fdca26"
            ],
            [
             1,
             "#f0f921"
            ]
           ],
           "sequentialminus": [
            [
             0,
             "#0d0887"
            ],
            [
             0.1111111111111111,
             "#46039f"
            ],
            [
             0.2222222222222222,
             "#7201a8"
            ],
            [
             0.3333333333333333,
             "#9c179e"
            ],
            [
             0.4444444444444444,
             "#bd3786"
            ],
            [
             0.5555555555555556,
             "#d8576b"
            ],
            [
             0.6666666666666666,
             "#ed7953"
            ],
            [
             0.7777777777777778,
             "#fb9f3a"
            ],
            [
             0.8888888888888888,
             "#fdca26"
            ],
            [
             1,
             "#f0f921"
            ]
           ]
          },
          "colorway": [
           "#636efa",
           "#EF553B",
           "#00cc96",
           "#ab63fa",
           "#FFA15A",
           "#19d3f3",
           "#FF6692",
           "#B6E880",
           "#FF97FF",
           "#FECB52"
          ],
          "font": {
           "color": "#2a3f5f"
          },
          "geo": {
           "bgcolor": "white",
           "lakecolor": "white",
           "landcolor": "white",
           "showlakes": true,
           "showland": true,
           "subunitcolor": "#C8D4E3"
          },
          "hoverlabel": {
           "align": "left"
          },
          "hovermode": "closest",
          "mapbox": {
           "style": "light"
          },
          "paper_bgcolor": "white",
          "plot_bgcolor": "white",
          "polar": {
           "angularaxis": {
            "gridcolor": "#EBF0F8",
            "linecolor": "#EBF0F8",
            "ticks": ""
           },
           "bgcolor": "white",
           "radialaxis": {
            "gridcolor": "#EBF0F8",
            "linecolor": "#EBF0F8",
            "ticks": ""
           }
          },
          "scene": {
           "xaxis": {
            "backgroundcolor": "white",
            "gridcolor": "#DFE8F3",
            "gridwidth": 2,
            "linecolor": "#EBF0F8",
            "showbackground": true,
            "ticks": "",
            "zerolinecolor": "#EBF0F8"
           },
           "yaxis": {
            "backgroundcolor": "white",
            "gridcolor": "#DFE8F3",
            "gridwidth": 2,
            "linecolor": "#EBF0F8",
            "showbackground": true,
            "ticks": "",
            "zerolinecolor": "#EBF0F8"
           },
           "zaxis": {
            "backgroundcolor": "white",
            "gridcolor": "#DFE8F3",
            "gridwidth": 2,
            "linecolor": "#EBF0F8",
            "showbackground": true,
            "ticks": "",
            "zerolinecolor": "#EBF0F8"
           }
          },
          "shapedefaults": {
           "line": {
            "color": "#2a3f5f"
           }
          },
          "ternary": {
           "aaxis": {
            "gridcolor": "#DFE8F3",
            "linecolor": "#A2B1C6",
            "ticks": ""
           },
           "baxis": {
            "gridcolor": "#DFE8F3",
            "linecolor": "#A2B1C6",
            "ticks": ""
           },
           "bgcolor": "white",
           "caxis": {
            "gridcolor": "#DFE8F3",
            "linecolor": "#A2B1C6",
            "ticks": ""
           }
          },
          "title": {
           "x": 0.05
          },
          "xaxis": {
           "automargin": true,
           "gridcolor": "#EBF0F8",
           "linecolor": "#EBF0F8",
           "ticks": "",
           "title": {
            "standoff": 15
           },
           "zerolinecolor": "#EBF0F8",
           "zerolinewidth": 2
          },
          "yaxis": {
           "automargin": true,
           "gridcolor": "#EBF0F8",
           "linecolor": "#EBF0F8",
           "ticks": "",
           "title": {
            "standoff": 15
           },
           "zerolinecolor": "#EBF0F8",
           "zerolinewidth": 2
          }
         }
        },
        "title": {
         "text": "Banking Crisis Distribution"
        },
        "xaxis": {
         "anchor": "y",
         "categoryarray": [
          "crisis",
          "no_crisis"
         ],
         "categoryorder": "array",
         "domain": [
          0,
          1
         ],
         "title": {
          "text": "banking_crisis"
         }
        },
        "yaxis": {
         "anchor": "x",
         "domain": [
          0,
          1
         ],
         "title": {
          "text": "count"
         }
        }
       }
      }
     },
     "metadata": {},
     "output_type": "display_data"
    }
   ],
   "source": [
    "# Distribution of banking crisis\n",
    "fig = px.histogram(df, x='banking_crisis', color='banking_crisis', color_discrete_map={'crisis': 'red', 'no_crisis': 'blue'}, template='plotly_white')\n",
    "fig.update_layout(title='Banking Crisis Distribution')\n",
    "fig.show()"
   ]
  },
  {
   "cell_type": "code",
   "execution_count": 8,
   "id": "f88f5bf0",
   "metadata": {},
   "outputs": [
    {
     "name": "stdout",
     "output_type": "stream",
     "text": [
      "cc3\n",
      "country\n",
      "banking_crisis\n"
     ]
    }
   ],
   "source": [
    "from sklearn.preprocessing import LabelEncoder\n",
    "le=LabelEncoder()\n",
    "for col in df.columns:\n",
    "    if df[col].dtype=='object':\n",
    "        print(col)\n",
    "        df[col]=le.fit_transform(df[col])\n",
    "\n",
    "\n",
    "\n",
    "\n",
    "\n",
    "\n"
   ]
  },
  {
   "cell_type": "code",
   "execution_count": 9,
   "id": "1096004d",
   "metadata": {},
   "outputs": [],
   "source": [
    "x=df.drop('banking_crisis', axis=1)\n",
    "y=df['banking_crisis']"
   ]
  },
  {
   "cell_type": "code",
   "execution_count": 10,
   "id": "b746fa57",
   "metadata": {},
   "outputs": [
    {
     "name": "stdout",
     "output_type": "stream",
     "text": [
      "Oversampled class distributin:\n",
      "banking_crisis\n",
      "1    965\n",
      "0    144\n",
      "Name: count, dtype: int64\n"
     ]
    }
   ],
   "source": [
    "from imblearn.over_sampling import RandomOverSampler \n",
    "oversample = RandomOverSampler(sampling_strategy=0.15)\n",
    "X_over,y_over=oversample.fit_resample(x,y)\n",
    "print('Oversampled class distributin:')\n",
    "print(pd.Series(y_over).value_counts())"
   ]
  },
  {
   "cell_type": "code",
   "execution_count": 11,
   "id": "0d95837c",
   "metadata": {},
   "outputs": [
    {
     "name": "stdout",
     "output_type": "stream",
     "text": [
      "Train shape: (776, 13)\n",
      "Test shape: (333, 13)\n"
     ]
    }
   ],
   "source": [
    "from sklearn.model_selection import train_test_split\n",
    "X_train, X_test, y_train, y_test = train_test_split(X_over,y_over, test_size=0.3, random_state=42)\n",
    "print('Train shape:', X_train.shape)\n",
    "print('Test shape:', X_test.shape)"
   ]
  },
  {
   "cell_type": "code",
   "execution_count": null,
   "id": "be90f231",
   "metadata": {},
   "outputs": [],
   "source": []
  },
  {
   "cell_type": "code",
   "execution_count": 12,
   "id": "568fe248",
   "metadata": {},
   "outputs": [],
   "source": [
    "from sklearn.preprocessing  import MinMaxScaler\n",
    "scaler=MinMaxScaler()\n",
    "X_train = scaler.fit_transform(X_train)\n",
    "X_test=scaler.transform(X_test)\n",
    "X_train = pd.DataFrame(X_train)\n",
    "X_test = pd.DataFrame(X_test)\n"
   ]
  },
  {
   "cell_type": "code",
   "execution_count": 13,
   "id": "b1a2f459",
   "metadata": {},
   "outputs": [],
   "source": [
    "from sklearn.linear_model import LogisticRegression "
   ]
  },
  {
   "cell_type": "code",
   "execution_count": 14,
   "id": "2eded1e8",
   "metadata": {},
   "outputs": [
    {
     "data": {
      "text/html": [
       "<style>#sk-container-id-1 {\n",
       "  /* Definition of color scheme common for light and dark mode */\n",
       "  --sklearn-color-text: #000;\n",
       "  --sklearn-color-text-muted: #666;\n",
       "  --sklearn-color-line: gray;\n",
       "  /* Definition of color scheme for unfitted estimators */\n",
       "  --sklearn-color-unfitted-level-0: #fff5e6;\n",
       "  --sklearn-color-unfitted-level-1: #f6e4d2;\n",
       "  --sklearn-color-unfitted-level-2: #ffe0b3;\n",
       "  --sklearn-color-unfitted-level-3: chocolate;\n",
       "  /* Definition of color scheme for fitted estimators */\n",
       "  --sklearn-color-fitted-level-0: #f0f8ff;\n",
       "  --sklearn-color-fitted-level-1: #d4ebff;\n",
       "  --sklearn-color-fitted-level-2: #b3dbfd;\n",
       "  --sklearn-color-fitted-level-3: cornflowerblue;\n",
       "\n",
       "  /* Specific color for light theme */\n",
       "  --sklearn-color-text-on-default-background: var(--sg-text-color, var(--theme-code-foreground, var(--jp-content-font-color1, black)));\n",
       "  --sklearn-color-background: var(--sg-background-color, var(--theme-background, var(--jp-layout-color0, white)));\n",
       "  --sklearn-color-border-box: var(--sg-text-color, var(--theme-code-foreground, var(--jp-content-font-color1, black)));\n",
       "  --sklearn-color-icon: #696969;\n",
       "\n",
       "  @media (prefers-color-scheme: dark) {\n",
       "    /* Redefinition of color scheme for dark theme */\n",
       "    --sklearn-color-text-on-default-background: var(--sg-text-color, var(--theme-code-foreground, var(--jp-content-font-color1, white)));\n",
       "    --sklearn-color-background: var(--sg-background-color, var(--theme-background, var(--jp-layout-color0, #111)));\n",
       "    --sklearn-color-border-box: var(--sg-text-color, var(--theme-code-foreground, var(--jp-content-font-color1, white)));\n",
       "    --sklearn-color-icon: #878787;\n",
       "  }\n",
       "}\n",
       "\n",
       "#sk-container-id-1 {\n",
       "  color: var(--sklearn-color-text);\n",
       "}\n",
       "\n",
       "#sk-container-id-1 pre {\n",
       "  padding: 0;\n",
       "}\n",
       "\n",
       "#sk-container-id-1 input.sk-hidden--visually {\n",
       "  border: 0;\n",
       "  clip: rect(1px 1px 1px 1px);\n",
       "  clip: rect(1px, 1px, 1px, 1px);\n",
       "  height: 1px;\n",
       "  margin: -1px;\n",
       "  overflow: hidden;\n",
       "  padding: 0;\n",
       "  position: absolute;\n",
       "  width: 1px;\n",
       "}\n",
       "\n",
       "#sk-container-id-1 div.sk-dashed-wrapped {\n",
       "  border: 1px dashed var(--sklearn-color-line);\n",
       "  margin: 0 0.4em 0.5em 0.4em;\n",
       "  box-sizing: border-box;\n",
       "  padding-bottom: 0.4em;\n",
       "  background-color: var(--sklearn-color-background);\n",
       "}\n",
       "\n",
       "#sk-container-id-1 div.sk-container {\n",
       "  /* jupyter's `normalize.less` sets `[hidden] { display: none; }`\n",
       "     but bootstrap.min.css set `[hidden] { display: none !important; }`\n",
       "     so we also need the `!important` here to be able to override the\n",
       "     default hidden behavior on the sphinx rendered scikit-learn.org.\n",
       "     See: https://github.com/scikit-learn/scikit-learn/issues/21755 */\n",
       "  display: inline-block !important;\n",
       "  position: relative;\n",
       "}\n",
       "\n",
       "#sk-container-id-1 div.sk-text-repr-fallback {\n",
       "  display: none;\n",
       "}\n",
       "\n",
       "div.sk-parallel-item,\n",
       "div.sk-serial,\n",
       "div.sk-item {\n",
       "  /* draw centered vertical line to link estimators */\n",
       "  background-image: linear-gradient(var(--sklearn-color-text-on-default-background), var(--sklearn-color-text-on-default-background));\n",
       "  background-size: 2px 100%;\n",
       "  background-repeat: no-repeat;\n",
       "  background-position: center center;\n",
       "}\n",
       "\n",
       "/* Parallel-specific style estimator block */\n",
       "\n",
       "#sk-container-id-1 div.sk-parallel-item::after {\n",
       "  content: \"\";\n",
       "  width: 100%;\n",
       "  border-bottom: 2px solid var(--sklearn-color-text-on-default-background);\n",
       "  flex-grow: 1;\n",
       "}\n",
       "\n",
       "#sk-container-id-1 div.sk-parallel {\n",
       "  display: flex;\n",
       "  align-items: stretch;\n",
       "  justify-content: center;\n",
       "  background-color: var(--sklearn-color-background);\n",
       "  position: relative;\n",
       "}\n",
       "\n",
       "#sk-container-id-1 div.sk-parallel-item {\n",
       "  display: flex;\n",
       "  flex-direction: column;\n",
       "}\n",
       "\n",
       "#sk-container-id-1 div.sk-parallel-item:first-child::after {\n",
       "  align-self: flex-end;\n",
       "  width: 50%;\n",
       "}\n",
       "\n",
       "#sk-container-id-1 div.sk-parallel-item:last-child::after {\n",
       "  align-self: flex-start;\n",
       "  width: 50%;\n",
       "}\n",
       "\n",
       "#sk-container-id-1 div.sk-parallel-item:only-child::after {\n",
       "  width: 0;\n",
       "}\n",
       "\n",
       "/* Serial-specific style estimator block */\n",
       "\n",
       "#sk-container-id-1 div.sk-serial {\n",
       "  display: flex;\n",
       "  flex-direction: column;\n",
       "  align-items: center;\n",
       "  background-color: var(--sklearn-color-background);\n",
       "  padding-right: 1em;\n",
       "  padding-left: 1em;\n",
       "}\n",
       "\n",
       "\n",
       "/* Toggleable style: style used for estimator/Pipeline/ColumnTransformer box that is\n",
       "clickable and can be expanded/collapsed.\n",
       "- Pipeline and ColumnTransformer use this feature and define the default style\n",
       "- Estimators will overwrite some part of the style using the `sk-estimator` class\n",
       "*/\n",
       "\n",
       "/* Pipeline and ColumnTransformer style (default) */\n",
       "\n",
       "#sk-container-id-1 div.sk-toggleable {\n",
       "  /* Default theme specific background. It is overwritten whether we have a\n",
       "  specific estimator or a Pipeline/ColumnTransformer */\n",
       "  background-color: var(--sklearn-color-background);\n",
       "}\n",
       "\n",
       "/* Toggleable label */\n",
       "#sk-container-id-1 label.sk-toggleable__label {\n",
       "  cursor: pointer;\n",
       "  display: flex;\n",
       "  width: 100%;\n",
       "  margin-bottom: 0;\n",
       "  padding: 0.5em;\n",
       "  box-sizing: border-box;\n",
       "  text-align: center;\n",
       "  align-items: start;\n",
       "  justify-content: space-between;\n",
       "  gap: 0.5em;\n",
       "}\n",
       "\n",
       "#sk-container-id-1 label.sk-toggleable__label .caption {\n",
       "  font-size: 0.6rem;\n",
       "  font-weight: lighter;\n",
       "  color: var(--sklearn-color-text-muted);\n",
       "}\n",
       "\n",
       "#sk-container-id-1 label.sk-toggleable__label-arrow:before {\n",
       "  /* Arrow on the left of the label */\n",
       "  content: \"▸\";\n",
       "  float: left;\n",
       "  margin-right: 0.25em;\n",
       "  color: var(--sklearn-color-icon);\n",
       "}\n",
       "\n",
       "#sk-container-id-1 label.sk-toggleable__label-arrow:hover:before {\n",
       "  color: var(--sklearn-color-text);\n",
       "}\n",
       "\n",
       "/* Toggleable content - dropdown */\n",
       "\n",
       "#sk-container-id-1 div.sk-toggleable__content {\n",
       "  max-height: 0;\n",
       "  max-width: 0;\n",
       "  overflow: hidden;\n",
       "  text-align: left;\n",
       "  /* unfitted */\n",
       "  background-color: var(--sklearn-color-unfitted-level-0);\n",
       "}\n",
       "\n",
       "#sk-container-id-1 div.sk-toggleable__content.fitted {\n",
       "  /* fitted */\n",
       "  background-color: var(--sklearn-color-fitted-level-0);\n",
       "}\n",
       "\n",
       "#sk-container-id-1 div.sk-toggleable__content pre {\n",
       "  margin: 0.2em;\n",
       "  border-radius: 0.25em;\n",
       "  color: var(--sklearn-color-text);\n",
       "  /* unfitted */\n",
       "  background-color: var(--sklearn-color-unfitted-level-0);\n",
       "}\n",
       "\n",
       "#sk-container-id-1 div.sk-toggleable__content.fitted pre {\n",
       "  /* unfitted */\n",
       "  background-color: var(--sklearn-color-fitted-level-0);\n",
       "}\n",
       "\n",
       "#sk-container-id-1 input.sk-toggleable__control:checked~div.sk-toggleable__content {\n",
       "  /* Expand drop-down */\n",
       "  max-height: 200px;\n",
       "  max-width: 100%;\n",
       "  overflow: auto;\n",
       "}\n",
       "\n",
       "#sk-container-id-1 input.sk-toggleable__control:checked~label.sk-toggleable__label-arrow:before {\n",
       "  content: \"▾\";\n",
       "}\n",
       "\n",
       "/* Pipeline/ColumnTransformer-specific style */\n",
       "\n",
       "#sk-container-id-1 div.sk-label input.sk-toggleable__control:checked~label.sk-toggleable__label {\n",
       "  color: var(--sklearn-color-text);\n",
       "  background-color: var(--sklearn-color-unfitted-level-2);\n",
       "}\n",
       "\n",
       "#sk-container-id-1 div.sk-label.fitted input.sk-toggleable__control:checked~label.sk-toggleable__label {\n",
       "  background-color: var(--sklearn-color-fitted-level-2);\n",
       "}\n",
       "\n",
       "/* Estimator-specific style */\n",
       "\n",
       "/* Colorize estimator box */\n",
       "#sk-container-id-1 div.sk-estimator input.sk-toggleable__control:checked~label.sk-toggleable__label {\n",
       "  /* unfitted */\n",
       "  background-color: var(--sklearn-color-unfitted-level-2);\n",
       "}\n",
       "\n",
       "#sk-container-id-1 div.sk-estimator.fitted input.sk-toggleable__control:checked~label.sk-toggleable__label {\n",
       "  /* fitted */\n",
       "  background-color: var(--sklearn-color-fitted-level-2);\n",
       "}\n",
       "\n",
       "#sk-container-id-1 div.sk-label label.sk-toggleable__label,\n",
       "#sk-container-id-1 div.sk-label label {\n",
       "  /* The background is the default theme color */\n",
       "  color: var(--sklearn-color-text-on-default-background);\n",
       "}\n",
       "\n",
       "/* On hover, darken the color of the background */\n",
       "#sk-container-id-1 div.sk-label:hover label.sk-toggleable__label {\n",
       "  color: var(--sklearn-color-text);\n",
       "  background-color: var(--sklearn-color-unfitted-level-2);\n",
       "}\n",
       "\n",
       "/* Label box, darken color on hover, fitted */\n",
       "#sk-container-id-1 div.sk-label.fitted:hover label.sk-toggleable__label.fitted {\n",
       "  color: var(--sklearn-color-text);\n",
       "  background-color: var(--sklearn-color-fitted-level-2);\n",
       "}\n",
       "\n",
       "/* Estimator label */\n",
       "\n",
       "#sk-container-id-1 div.sk-label label {\n",
       "  font-family: monospace;\n",
       "  font-weight: bold;\n",
       "  display: inline-block;\n",
       "  line-height: 1.2em;\n",
       "}\n",
       "\n",
       "#sk-container-id-1 div.sk-label-container {\n",
       "  text-align: center;\n",
       "}\n",
       "\n",
       "/* Estimator-specific */\n",
       "#sk-container-id-1 div.sk-estimator {\n",
       "  font-family: monospace;\n",
       "  border: 1px dotted var(--sklearn-color-border-box);\n",
       "  border-radius: 0.25em;\n",
       "  box-sizing: border-box;\n",
       "  margin-bottom: 0.5em;\n",
       "  /* unfitted */\n",
       "  background-color: var(--sklearn-color-unfitted-level-0);\n",
       "}\n",
       "\n",
       "#sk-container-id-1 div.sk-estimator.fitted {\n",
       "  /* fitted */\n",
       "  background-color: var(--sklearn-color-fitted-level-0);\n",
       "}\n",
       "\n",
       "/* on hover */\n",
       "#sk-container-id-1 div.sk-estimator:hover {\n",
       "  /* unfitted */\n",
       "  background-color: var(--sklearn-color-unfitted-level-2);\n",
       "}\n",
       "\n",
       "#sk-container-id-1 div.sk-estimator.fitted:hover {\n",
       "  /* fitted */\n",
       "  background-color: var(--sklearn-color-fitted-level-2);\n",
       "}\n",
       "\n",
       "/* Specification for estimator info (e.g. \"i\" and \"?\") */\n",
       "\n",
       "/* Common style for \"i\" and \"?\" */\n",
       "\n",
       ".sk-estimator-doc-link,\n",
       "a:link.sk-estimator-doc-link,\n",
       "a:visited.sk-estimator-doc-link {\n",
       "  float: right;\n",
       "  font-size: smaller;\n",
       "  line-height: 1em;\n",
       "  font-family: monospace;\n",
       "  background-color: var(--sklearn-color-background);\n",
       "  border-radius: 1em;\n",
       "  height: 1em;\n",
       "  width: 1em;\n",
       "  text-decoration: none !important;\n",
       "  margin-left: 0.5em;\n",
       "  text-align: center;\n",
       "  /* unfitted */\n",
       "  border: var(--sklearn-color-unfitted-level-1) 1pt solid;\n",
       "  color: var(--sklearn-color-unfitted-level-1);\n",
       "}\n",
       "\n",
       ".sk-estimator-doc-link.fitted,\n",
       "a:link.sk-estimator-doc-link.fitted,\n",
       "a:visited.sk-estimator-doc-link.fitted {\n",
       "  /* fitted */\n",
       "  border: var(--sklearn-color-fitted-level-1) 1pt solid;\n",
       "  color: var(--sklearn-color-fitted-level-1);\n",
       "}\n",
       "\n",
       "/* On hover */\n",
       "div.sk-estimator:hover .sk-estimator-doc-link:hover,\n",
       ".sk-estimator-doc-link:hover,\n",
       "div.sk-label-container:hover .sk-estimator-doc-link:hover,\n",
       ".sk-estimator-doc-link:hover {\n",
       "  /* unfitted */\n",
       "  background-color: var(--sklearn-color-unfitted-level-3);\n",
       "  color: var(--sklearn-color-background);\n",
       "  text-decoration: none;\n",
       "}\n",
       "\n",
       "div.sk-estimator.fitted:hover .sk-estimator-doc-link.fitted:hover,\n",
       ".sk-estimator-doc-link.fitted:hover,\n",
       "div.sk-label-container:hover .sk-estimator-doc-link.fitted:hover,\n",
       ".sk-estimator-doc-link.fitted:hover {\n",
       "  /* fitted */\n",
       "  background-color: var(--sklearn-color-fitted-level-3);\n",
       "  color: var(--sklearn-color-background);\n",
       "  text-decoration: none;\n",
       "}\n",
       "\n",
       "/* Span, style for the box shown on hovering the info icon */\n",
       ".sk-estimator-doc-link span {\n",
       "  display: none;\n",
       "  z-index: 9999;\n",
       "  position: relative;\n",
       "  font-weight: normal;\n",
       "  right: .2ex;\n",
       "  padding: .5ex;\n",
       "  margin: .5ex;\n",
       "  width: min-content;\n",
       "  min-width: 20ex;\n",
       "  max-width: 50ex;\n",
       "  color: var(--sklearn-color-text);\n",
       "  box-shadow: 2pt 2pt 4pt #999;\n",
       "  /* unfitted */\n",
       "  background: var(--sklearn-color-unfitted-level-0);\n",
       "  border: .5pt solid var(--sklearn-color-unfitted-level-3);\n",
       "}\n",
       "\n",
       ".sk-estimator-doc-link.fitted span {\n",
       "  /* fitted */\n",
       "  background: var(--sklearn-color-fitted-level-0);\n",
       "  border: var(--sklearn-color-fitted-level-3);\n",
       "}\n",
       "\n",
       ".sk-estimator-doc-link:hover span {\n",
       "  display: block;\n",
       "}\n",
       "\n",
       "/* \"?\"-specific style due to the `<a>` HTML tag */\n",
       "\n",
       "#sk-container-id-1 a.estimator_doc_link {\n",
       "  float: right;\n",
       "  font-size: 1rem;\n",
       "  line-height: 1em;\n",
       "  font-family: monospace;\n",
       "  background-color: var(--sklearn-color-background);\n",
       "  border-radius: 1rem;\n",
       "  height: 1rem;\n",
       "  width: 1rem;\n",
       "  text-decoration: none;\n",
       "  /* unfitted */\n",
       "  color: var(--sklearn-color-unfitted-level-1);\n",
       "  border: var(--sklearn-color-unfitted-level-1) 1pt solid;\n",
       "}\n",
       "\n",
       "#sk-container-id-1 a.estimator_doc_link.fitted {\n",
       "  /* fitted */\n",
       "  border: var(--sklearn-color-fitted-level-1) 1pt solid;\n",
       "  color: var(--sklearn-color-fitted-level-1);\n",
       "}\n",
       "\n",
       "/* On hover */\n",
       "#sk-container-id-1 a.estimator_doc_link:hover {\n",
       "  /* unfitted */\n",
       "  background-color: var(--sklearn-color-unfitted-level-3);\n",
       "  color: var(--sklearn-color-background);\n",
       "  text-decoration: none;\n",
       "}\n",
       "\n",
       "#sk-container-id-1 a.estimator_doc_link.fitted:hover {\n",
       "  /* fitted */\n",
       "  background-color: var(--sklearn-color-fitted-level-3);\n",
       "}\n",
       "</style><div id=\"sk-container-id-1\" class=\"sk-top-container\"><div class=\"sk-text-repr-fallback\"><pre>LogisticRegression()</pre><b>In a Jupyter environment, please rerun this cell to show the HTML representation or trust the notebook. <br />On GitHub, the HTML representation is unable to render, please try loading this page with nbviewer.org.</b></div><div class=\"sk-container\" hidden><div class=\"sk-item\"><div class=\"sk-estimator fitted sk-toggleable\"><input class=\"sk-toggleable__control sk-hidden--visually\" id=\"sk-estimator-id-1\" type=\"checkbox\" checked><label for=\"sk-estimator-id-1\" class=\"sk-toggleable__label fitted sk-toggleable__label-arrow\"><div><div>LogisticRegression</div></div><div><a class=\"sk-estimator-doc-link fitted\" rel=\"noreferrer\" target=\"_blank\" href=\"https://scikit-learn.org/1.6/modules/generated/sklearn.linear_model.LogisticRegression.html\">?<span>Documentation for LogisticRegression</span></a><span class=\"sk-estimator-doc-link fitted\">i<span>Fitted</span></span></div></label><div class=\"sk-toggleable__content fitted\"><pre>LogisticRegression()</pre></div> </div></div></div></div>"
      ],
      "text/plain": [
       "LogisticRegression()"
      ]
     },
     "execution_count": 14,
     "metadata": {},
     "output_type": "execute_result"
    }
   ],
   "source": [
    "model=LogisticRegression()\n",
    "model.fit(X_train,y_train)"
   ]
  },
  {
   "cell_type": "code",
   "execution_count": null,
   "id": "d6452ecb",
   "metadata": {},
   "outputs": [],
   "source": [
    "import pickle\n",
    "with open('logistic_regression_model.pkl', 'wb') as f:\n",
    "    pickle.dump(model, f)\n",
    "print('Model saved as logistic_regression_model.pkl')"
   ]
  }
 ],
 "metadata": {
  "kernelspec": {
   "display_name": "Python 3",
   "language": "python",
   "name": "python3"
  },
  "language_info": {
   "codemirror_mode": {
    "name": "ipython",
    "version": 3
   },
   "file_extension": ".py",
   "mimetype": "text/x-python",
   "name": "python",
   "nbconvert_exporter": "python",
   "pygments_lexer": "ipython3",
   "version": "3.9.6"
  }
 },
 "nbformat": 4,
 "nbformat_minor": 5
}
